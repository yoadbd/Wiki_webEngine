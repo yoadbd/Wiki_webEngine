{
 "cells": [
  {
   "cell_type": "code",
   "execution_count": null,
   "metadata": {
    "id": "fkrJ-YjSzpSe",
    "pycharm": {
     "name": "#%%\n"
    }
   },
   "outputs": [],
   "source": []
  },
  {
   "cell_type": "code",
   "execution_count": 1,
   "metadata": {
    "id": "5ac36d3a",
    "nbgrader": {
     "grade": false,
     "grade_id": "cell-Worker_Count",
     "locked": true,
     "schema_version": 3,
     "solution": false,
     "task": false
    },
    "outputId": "cf88b954-f39a-412a-d87e-660833e735b6",
    "pycharm": {
     "name": "#%%\n"
    }
   },
   "outputs": [
    {
     "name": "stdout",
     "output_type": "stream",
     "text": [
      "NAME          PLATFORM  WORKER_COUNT  PREEMPTIBLE_WORKER_COUNT  STATUS   ZONE           SCHEDULED_DELETE\r\n",
      "cluster-979b  GCE       4                                       RUNNING  us-central1-c\r\n"
     ]
    }
   ],
   "source": [
    "# if the following command generates an error, you probably didn't enable \n",
    "# the cluster security option \"Allow API access to all Google Cloud services\"\n",
    "# under Manage Security → Project Access when setting up the cluster\n",
    "!gcloud dataproc clusters list --region us-central1"
   ]
  },
  {
   "cell_type": "markdown",
   "metadata": {
    "id": "51cf86c5",
    "pycharm": {
     "name": "#%% md\n"
    }
   },
   "source": [
    "# Imports & Setup"
   ]
  },
  {
   "cell_type": "code",
   "execution_count": 2,
   "metadata": {
    "id": "bf199e6a",
    "nbgrader": {
     "grade": false,
     "grade_id": "cell-Setup",
     "locked": true,
     "schema_version": 3,
     "solution": false,
     "task": false
    },
    "outputId": "fc0e315d-21e9-411d-d69c-5b97e4e5d629",
    "pycharm": {
     "name": "#%%\n"
    }
   },
   "outputs": [
    {
     "name": "stdout",
     "output_type": "stream",
     "text": [
      "\u001B[33mWARNING: Running pip as the 'root' user can result in broken permissions and conflicting behaviour with the system package manager. It is recommended to use a virtual environment instead: https://pip.pypa.io/warnings/venv\u001B[0m\u001B[33m\n",
      "\u001B[0m\u001B[33mWARNING: Running pip as the 'root' user can result in broken permissions and conflicting behaviour with the system package manager. It is recommended to use a virtual environment instead: https://pip.pypa.io/warnings/venv\u001B[0m\u001B[33m\n",
      "\u001B[0m"
     ]
    }
   ],
   "source": [
    "!pip install -q google-cloud-storage==1.43.0\n",
    "!pip install -q graphframes"
   ]
  },
  {
   "cell_type": "code",
   "execution_count": 3,
   "metadata": {
    "id": "d8f56ecd",
    "nbgrader": {
     "grade": false,
     "grade_id": "cell-Imports",
     "locked": true,
     "schema_version": 3,
     "solution": false,
     "task": false
    },
    "outputId": "a24aa24b-aa75-4823-83ca-1d7deef0f0de",
    "pycharm": {
     "name": "#%%\n"
    }
   },
   "outputs": [
    {
     "name": "stderr",
     "output_type": "stream",
     "text": [
      "[nltk_data] Downloading package stopwords to /root/nltk_data...\n",
      "[nltk_data]   Package stopwords is already up-to-date!\n"
     ]
    },
    {
     "data": {
      "text/plain": [
       "True"
      ]
     },
     "execution_count": 3,
     "metadata": {},
     "output_type": "execute_result"
    }
   ],
   "source": [
    "import pyspark\n",
    "import sys\n",
    "from collections import Counter, OrderedDict, defaultdict\n",
    "import itertools\n",
    "from itertools import islice, count, groupby\n",
    "import pandas as pd\n",
    "import os\n",
    "import re\n",
    "from operator import itemgetter\n",
    "import nltk\n",
    "from nltk.stem.porter import *\n",
    "from nltk.corpus import stopwords\n",
    "from time import time\n",
    "from pathlib import Path\n",
    "import pickle\n",
    "import pandas as pd\n",
    "from google.cloud import storage\n",
    "import math\n",
    "from contextlib import closing\n",
    "import pdb\n",
    "import hashlib\n",
    "\n",
    "def _hash(s):\n",
    "    return hashlib.blake2b(bytes(s, encoding='utf8'), digest_size=5).hexdigest()\n",
    "\n",
    "nltk.download('stopwords')"
   ]
  },
  {
   "cell_type": "code",
   "execution_count": 4,
   "metadata": {
    "id": "38a897f2",
    "nbgrader": {
     "grade": false,
     "grade_id": "cell-jar",
     "locked": true,
     "schema_version": 3,
     "solution": false,
     "task": false
    },
    "outputId": "8f93a7ec-71e0-49c1-fc81-9af385849a90",
    "pycharm": {
     "name": "#%%\n"
    }
   },
   "outputs": [
    {
     "name": "stdout",
     "output_type": "stream",
     "text": [
      "-rw-r--r-- 1 root root 247882 Jan 12 08:37 /usr/lib/spark/jars/graphframes-0.8.2-spark3.1-s_2.12.jar\r\n"
     ]
    }
   ],
   "source": [
    "# if nothing prints here you forgot to include the initialization script when starting the cluster\n",
    "!ls -l /usr/lib/spark/jars/graph*"
   ]
  },
  {
   "cell_type": "code",
   "execution_count": 5,
   "metadata": {
    "id": "47900073",
    "nbgrader": {
     "grade": false,
     "grade_id": "cell-pyspark-import",
     "locked": true,
     "schema_version": 3,
     "solution": false,
     "task": false
    },
    "pycharm": {
     "name": "#%%\n"
    }
   },
   "outputs": [],
   "source": [
    "from pyspark.sql import *\n",
    "from pyspark.sql.functions import *\n",
    "from pyspark import SparkContext, SparkConf, SparkFiles\n",
    "from pyspark.sql import SQLContext\n",
    "from graphframes import *"
   ]
  },
  {
   "cell_type": "code",
   "execution_count": null,
   "outputs": [],
   "source": [
    "spark"
   ],
   "metadata": {
    "collapsed": false,
    "pycharm": {
     "name": "#%%\n"
    }
   }
  },
  {
   "cell_type": "code",
   "execution_count": null,
   "outputs": [],
   "source": [
    "# Put your bucket name below and make sure you can access it without an error\n",
    "w2df_dict_text = {}\n",
    "bucket_name = 'yoad_big_corpus' \n",
    "full_path = f\"gs://{bucket_name}/\"\n",
    "paths=[]\n",
    "\n",
    "client = storage.Client()\n",
    "blobs = client.list_blobs(bucket_name, prefix='Parquet_Files/')\n",
    "for b in blobs:\n",
    "    if b.name.endswith('.parquet'):\n",
    "        paths.append(full_path+b.name)"
   ],
   "metadata": {
    "collapsed": false,
    "pycharm": {
     "name": "#%%\n"
    }
   }
  },
  {
   "cell_type": "markdown",
   "source": [
    "***GCP setup is complete!*** If you got here without any errors you've earned 10 out of the 35 points of this part."
   ],
   "metadata": {
    "collapsed": false,
    "pycharm": {
     "name": "#%% md\n"
    }
   }
  },
  {
   "cell_type": "code",
   "execution_count": null,
   "outputs": [],
   "source": [
    "parquetFile = spark.read.parquet(*paths)\n",
    "doc_num = parquetFile.count()\n",
    "doc_text_pairs = parquetFile.select(\"text\", \"id\").rdd"
   ],
   "metadata": {
    "collapsed": false,
    "pycharm": {
     "name": "#%%\n"
    }
   }
  },
  {
   "cell_type": "code",
   "execution_count": null,
   "outputs": [],
   "source": [
    "# adding our python module to the cluster\n",
    "sc.addFile(\"/home/dataproc/inverted_index_gcp.py\")\n",
    "sys.path.insert(0,SparkFiles.getRootDirectory())"
   ],
   "metadata": {
    "collapsed": false,
    "pycharm": {
     "name": "#%%\n"
    }
   }
  },
  {
   "cell_type": "code",
   "execution_count": null,
   "outputs": [],
   "source": [
    "from inverted_index_gcp import InvertedIndex\n",
    "from inverted_index_gcp import MultiFileReader\n",
    "from inverted_index_gcp import MultiFileWriter\n",
    "TUPLE_SIZE = 6"
   ],
   "metadata": {
    "collapsed": false,
    "pycharm": {
     "name": "#%%\n"
    }
   }
  },
  {
   "cell_type": "code",
   "execution_count": null,
   "outputs": [],
   "source": [
    "english_stopwords = frozenset(stopwords.words('english'))\n",
    "corpus_stopwords = [\"category\", \"references\", \"also\", \"external\", \"links\",\n",
    "                    \"may\", \"first\", \"see\", \"history\", \"people\", \"one\", \"two\",\n",
    "                    \"part\", \"thumb\", \"including\", \"second\", \"following\",\n",
    "                    \"many\", \"however\", \"would\", \"became\"]\n",
    "\n",
    "all_stopwords = english_stopwords.union(corpus_stopwords)\n",
    "RE_WORD = re.compile(r\"\"\"[\\#\\@\\w](['\\-]?\\w){2,24}\"\"\", re.UNICODE)\n",
    "\n",
    "NUM_BUCKETS = 124\n",
    "\n",
    "\n",
    "def token2bucket_id(token):\n",
    "    return int(_hash(token), 16) % NUM_BUCKETS\n",
    "\n",
    "\n",
    "# PLACE YOUR CODE HERE\n",
    "def word_count(text, id):\n",
    "    ''' Count the frequency of each word in `text` (tf) that is not included in\n",
    "    `all_stopwords` and return entries that will go into our posting lists.\n",
    "    Parameters:\n",
    "    -----------\n",
    "      text: str\n",
    "        Text of one document\n",
    "      id: int\n",
    "        Document id\n",
    "    Returns:\n",
    "    --------\n",
    "      List of tuples\n",
    "        A list of (token, (doc_id, tf)) pairs\n",
    "        for example: [(\"Anarchism\", (12, 5)), ...]\n",
    "    '''\n",
    "    tokens = [token.group() for token in RE_WORD.finditer(text.lower())]\n",
    "\n",
    "    final_tokens = []\n",
    "    for tok in tokens:\n",
    "        if tok not in all_stopwords:\n",
    "            final_tokens.append(tok)\n",
    "    tf_dict = Counter(final_tokens)\n",
    "    returning = []\n",
    "    for elem in tf_dict.items():\n",
    "        returning.append((elem[0], (id, elem[1])))\n",
    "    return returning\n",
    "\n",
    "\n",
    "### generating tfidf score for a document with idf and max_tf normalizing\n",
    "### will be used as lambda the same way we used word_count\n",
    "def tfidf1(text, id,w2df):\n",
    "    tokens = [token.group() for token in RE_WORD.finditer(text.lower())]\n",
    "    final_tokens = []\n",
    "    max_term = 0\n",
    "    for tok in tokens:\n",
    "        if tok not in all_stopwords:\n",
    "            final_tokens.append(tok)\n",
    "    tf_dict = Counter(final_tokens)\n",
    "    for key,v in tf_dict.items():\n",
    "        if v > max_term:\n",
    "            max_term = v\n",
    "    returning = []\n",
    "    for key2,v2 in tf_dict.items():\n",
    "        if key2 in w2df.keys():\n",
    "            tfidf = (v2/max_term)*math.log(doc_num / w2df[key2], 10)\n",
    "            tfidf = int(10000*tfidf)\n",
    "        #tfidf_int = round(1000*tfidf)\n",
    "            returning.append((key2, (id, tfidf)))\n",
    "        #returning.append((elem[0], (id, elem[1])))\n",
    "    return returning\n",
    "\n",
    "def reduce_word_counts(unsorted_pl):\n",
    "    ''' Returns a sorted posting list by wiki_id.\n",
    "    Parameters:\n",
    "    -----------\n",
    "      unsorted_pl: list of tuples\n",
    "        A list of (wiki_id, tf) tuples\n",
    "    Returns:\n",
    "    --------\n",
    "      list of tuples\n",
    "        A sorted posting list.\n",
    "    '''\n",
    "    finale = []\n",
    "    finale = sorted(unsorted_pl, reverse=False)\n",
    "    return finale\n",
    "\n",
    "\n",
    "##################\n",
    "def calculate_df(postings):\n",
    "    ''' Takes a posting list RDD and calculate the df for each token.\n",
    "    Parameters:\n",
    "    -----------\n",
    "      postings: RDD\n",
    "        An RDD where each element is a (token, posting_list) pair.\n",
    "    Returns:\n",
    "    --------\n",
    "      RDD\n",
    "        An RDD where each element is a (token, df) pair.\n",
    "    '''\n",
    "    finale = []\n",
    "    finale = postings.map(lambda x: (x[0], len(x[1])))\n",
    "\n",
    "    return finale\n",
    "\n",
    "\n",
    "##################\n",
    "def partition_postings_and_write(postings):\n",
    "    ''' A function that partitions the posting lists into buckets, writes out\n",
    "    all posting lists in a bucket to disk, and returns the posting locations for\n",
    "    each bucket. Partitioning should be done through the use of `token2bucket`\n",
    "    above. Writing to disk should use the function  `write_a_posting_list`, a\n",
    "    static method implemented in inverted_index_colab.py under the InvertedIndex\n",
    "    class.\n",
    "    Parameters:\n",
    "    -----------\n",
    "      postings: RDD\n",
    "        An RDD where each item is a (w, posting_list) pair.\n",
    "    Returns:\n",
    "    --------\n",
    "      RDD\n",
    "        An RDD where each item is a posting locations dictionary for a bucket. The\n",
    "        posting locations maintain a list for each word of file locations and\n",
    "        offsets its posting list was written to. See `write_a_posting_list` for\n",
    "        more details.\n",
    "    '''\n",
    "\n",
    "    file_location_dictionary = {}\n",
    "    lama = postings.map(lambda x: (token2bucket_id(x[0]), x)).groupByKey().map(\n",
    "        lambda x: InvertedIndex.write_a_posting_list(x, bucket_name))\n",
    "\n",
    "    return lama\n",
    "\n",
    "##returning a tuple of the text's length and id\n",
    "def doc_length(text,id1,w2df_dict):\n",
    "    tokens = [token.group() for token in RE_WORD.finditer(text.lower())]\n",
    "    d={}\n",
    "    s=0\n",
    "    count=0\n",
    "    for token in tokens:\n",
    "        if token in w2df_dict.keys():\n",
    "            if token not in d:\n",
    "                d[token]=1\n",
    "            else:\n",
    "                count+=1\n",
    "\n",
    "    return id1,(len(d)+count)\n",
    "\n",
    "\n",
    "#for normalizing the tf by the max tf size of doc, used for lambda\n",
    "def get_max_tf(text,id,w2df_dict):\n",
    "    tokens = [token.group() for token in RE_WORD.finditer(text.lower())]\n",
    "    final_tokens = []\n",
    "    for tok in tokens:\n",
    "        if tok in w2df_dict.keys():\n",
    "            final_tokens.append(tok)\n",
    "    #print(max(tf_dict))\n",
    "    max_term = 0\n",
    "    tf_dict = dict(Counter(final_tokens))\n",
    "    for key,v in tf_dict.items():\n",
    "        if v > max_term:\n",
    "            max_term = v\n",
    "    return id, max_term\n",
    "\n",
    "### for checking purposes, reading the posting from the index\n",
    "def read_posting_list(inverted, w):\n",
    "    with closing(MultiFileReader()) as reader:\n",
    "        locs = inverted.posting_locs[w]\n",
    "        print(locs)\n",
    "        b = reader.read(locs, inverted.df[w] * TUPLE_SIZE,bucket_name)\n",
    "        posting_list = []\n",
    "    for i in range(inverted.df[w]):\n",
    "        doc_id = int.from_bytes(b[i*TUPLE_SIZE:i*TUPLE_SIZE+4], 'big')\n",
    "        tf = int.from_bytes(b[i*TUPLE_SIZE+4:(i+1)*TUPLE_SIZE], 'big')\n",
    "        posting_list.append((doc_id, tf))\n",
    "    print(posting_list)\n",
    "    return posting_list\n",
    "    \n",
    "\n",
    "\n"
   ],
   "metadata": {
    "collapsed": false,
    "pycharm": {
     "name": "#%%\n"
    }
   }
  },
  {
   "cell_type": "code",
   "execution_count": null,
   "outputs": [],
   "source": [
    "\n",
    "# word counts map\n",
    "word_counts_text = doc_text_pairs.flatMap(lambda x: word_count(x[0], x[1]))\n",
    "postings_text = word_counts_text.groupByKey().mapValues(reduce_word_counts)\n",
    "# filtering postings and calculate df\n",
    "postings_filtered_text = postings_text.filter(lambda x: len(x[1])>50)\n",
    "w2df_text = calculate_df(postings_filtered_text)\n",
    "w2df_dict_text = w2df_text.collectAsMap()\n",
    "\n"
   ],
   "metadata": {
    "collapsed": false,
    "pycharm": {
     "name": "#%%\n"
    }
   }
  },
  {
   "cell_type": "code",
   "execution_count": null,
   "outputs": [],
   "source": [
    "word_counts_text1 = doc_text_pairs.flatMap(lambda x: tfidf1(x[0], x[1],w2df_dict_text ))\n",
    "postings_text2 = word_counts_text1.groupByKey().mapValues(reduce_word_counts)\n",
    "postings_filtered_text = postings_text2.filter(lambda x: len(x[1])>50)"
   ],
   "metadata": {
    "collapsed": false,
    "pycharm": {
     "name": "#%%\n"
    }
   }
  },
  {
   "cell_type": "code",
   "execution_count": null,
   "outputs": [],
   "source": [
    "list_length=doc_text_pairs.map(lambda x:doc_length(x[0],x[1],w2df_dict_text))"
   ],
   "metadata": {
    "collapsed": false,
    "pycharm": {
     "name": "#%%\n"
    }
   }
  },
  {
   "cell_type": "code",
   "execution_count": null,
   "outputs": [],
   "source": [
    "# partition posting lists and write out\n",
    "_ = partition_postings_and_write(postings_filtered_text).collect()\n",
    "index_const_time = time() - t_start\n",
    "# test index construction time\n",
    "print(index_const_time)"
   ],
   "metadata": {
    "collapsed": false,
    "pycharm": {
     "name": "#%%\n"
    }
   }
  },
  {
   "cell_type": "code",
   "execution_count": null,
   "outputs": [],
   "source": [
    "# collect all posting lists locations into one super-set\n",
    "super_posting_locs_body = defaultdict(list)\n",
    "for blob in client.list_blobs(bucket_name, prefix='postings_gcp'):\n",
    "    if not blob.name.endswith(\"pickle\"):\n",
    "        continue\n",
    "    with blob.open(\"rb\") as f:\n",
    "        posting_locs = pickle.load(f)\n",
    "        for k, v in posting_locs.items():\n",
    "            super_posting_locs_body[k].extend(v)"
   ],
   "metadata": {
    "collapsed": false,
    "pycharm": {
     "name": "#%%\n"
    }
   }
  },
  {
   "cell_type": "code",
   "execution_count": null,
   "outputs": [],
   "source": [
    "# Create inverted index instance\n",
    "inverted = InvertedIndex()\n",
    "# Adding the posting locations dictionary to the inverted index\n",
    "inverted.posting_locs = super_posting_locs_body\n",
    "# Add the token - df dictionary to the inverted index\n",
    "inverted.df = w2df_dict_text\n",
    "doc_length_dict=list_length.collectAsMap()\n",
    "### to have the option of normalizing through doc_length\n",
    "inverted.DL = doc_length_dict\n",
    "# write the global stats out\n",
    "inverted.write_index('.', 'index_body')\n",
    "#print(read_posting_list(inverted,'orange'))\n",
    "# upload to gs\n",
    "index_src = \"index_body.pkl\"\n",
    "index_dst = f'gs://{bucket_name}/postings_gcp/{index_src}'\n",
    "!gsutil cp $index_src $index_dst"
   ],
   "metadata": {
    "collapsed": false,
    "pycharm": {
     "name": "#%%\n"
    }
   }
  },
  {
   "cell_type": "code",
   "execution_count": null,
   "metadata": {
    "id": "bZOJSA5TznqF",
    "pycharm": {
     "name": "#%%\n"
    }
   },
   "outputs": [],
   "source": []
  },
  {
   "cell_type": "code",
   "execution_count": null,
   "metadata": {
    "id": "s1oelHS9znqG",
    "pycharm": {
     "name": "#%%\n"
    }
   },
   "outputs": [],
   "source": []
  }
 ],
 "metadata": {
  "colab": {
   "provenance": []
  },
  "kernelspec": {
   "display_name": "PySpark",
   "language": "python",
   "name": "pyspark"
  },
  "language_info": {
   "codemirror_mode": {
    "name": "ipython",
    "version": 3
   },
   "file_extension": ".py",
   "mimetype": "text/x-python",
   "name": "python",
   "nbconvert_exporter": "python",
   "pygments_lexer": "ipython3",
   "version": "3.8.15"
  }
 },
 "nbformat": 4,
 "nbformat_minor": 1
}