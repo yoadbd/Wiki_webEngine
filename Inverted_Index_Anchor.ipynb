{
 "cells": [
  {
   "cell_type": "markdown",
   "id": "a00e032c",
   "metadata": {
    "id": "a00e032c",
    "pycharm": {
     "name": "#%% md\n"
    }
   },
   "source": [
    "***Important*** DO NOT CLEAR THE OUTPUT OF THIS NOTEBOOK AFTER EXECUTION!!!"
   ]
  },
  {
   "cell_type": "code",
   "execution_count": 50,
   "id": "5ac36d3a",
   "metadata": {
    "id": "5ac36d3a",
    "nbgrader": {
     "grade": false,
     "grade_id": "cell-Worker_Count",
     "locked": true,
     "schema_version": 3,
     "solution": false,
     "task": false
    },
    "outputId": "cf88b954-f39a-412a-d87e-660833e735b6",
    "pycharm": {
     "name": "#%%\n"
    }
   },
   "outputs": [
    {
     "name": "stdout",
     "output_type": "stream",
     "text": [
      "NAME          PLATFORM  WORKER_COUNT  PREEMPTIBLE_WORKER_COUNT  STATUS   ZONE           SCHEDULED_DELETE\r\n",
      "cluster-979b  GCE       4                                       RUNNING  us-central1-c\r\n"
     ]
    }
   ],
   "source": [
    "# if the following command generates an error, you probably didn't enable \n",
    "# the cluster security option \"Allow API access to all Google Cloud services\"\n",
    "# under Manage Security → Project Access when setting up the cluster\n",
    "!gcloud dataproc clusters list --region us-central1"
   ]
  },
  {
   "cell_type": "markdown",
   "id": "51cf86c5",
   "metadata": {
    "id": "51cf86c5",
    "pycharm": {
     "name": "#%% md\n"
    }
   },
   "source": [
    "# Imports & Setup"
   ]
  },
  {
   "cell_type": "code",
   "execution_count": 51,
   "id": "bf199e6a",
   "metadata": {
    "id": "bf199e6a",
    "nbgrader": {
     "grade": false,
     "grade_id": "cell-Setup",
     "locked": true,
     "schema_version": 3,
     "solution": false,
     "task": false
    },
    "outputId": "fc0e315d-21e9-411d-d69c-5b97e4e5d629",
    "pycharm": {
     "name": "#%%\n"
    }
   },
   "outputs": [
    {
     "name": "stdout",
     "output_type": "stream",
     "text": [
      "\u001B[33mWARNING: Running pip as the 'root' user can result in broken permissions and conflicting behaviour with the system package manager. It is recommended to use a virtual environment instead: https://pip.pypa.io/warnings/venv\u001B[0m\u001B[33m\n",
      "\u001B[0m\u001B[33mWARNING: Running pip as the 'root' user can result in broken permissions and conflicting behaviour with the system package manager. It is recommended to use a virtual environment instead: https://pip.pypa.io/warnings/venv\u001B[0m\u001B[33m\n",
      "\u001B[0m"
     ]
    }
   ],
   "source": [
    "!pip install -q google-cloud-storage==1.43.0\n",
    "!pip install -q graphframes"
   ]
  },
  {
   "cell_type": "code",
   "execution_count": 52,
   "id": "d8f56ecd",
   "metadata": {
    "id": "d8f56ecd",
    "nbgrader": {
     "grade": false,
     "grade_id": "cell-Imports",
     "locked": true,
     "schema_version": 3,
     "solution": false,
     "task": false
    },
    "outputId": "a24aa24b-aa75-4823-83ca-1d7deef0f0de",
    "pycharm": {
     "name": "#%%\n"
    }
   },
   "outputs": [
    {
     "name": "stderr",
     "output_type": "stream",
     "text": [
      "[nltk_data] Downloading package stopwords to /root/nltk_data...\n",
      "[nltk_data]   Package stopwords is already up-to-date!\n"
     ]
    },
    {
     "data": {
      "text/plain": [
       "True"
      ]
     },
     "execution_count": 52,
     "metadata": {},
     "output_type": "execute_result"
    }
   ],
   "source": [
    "import pyspark\n",
    "import sys\n",
    "from collections import Counter, OrderedDict, defaultdict\n",
    "import itertools\n",
    "from itertools import islice, count, groupby\n",
    "import pandas as pd\n",
    "import os\n",
    "import re\n",
    "from operator import itemgetter\n",
    "import nltk\n",
    "from nltk.stem.porter import *\n",
    "from nltk.corpus import stopwords\n",
    "from time import time\n",
    "from pathlib import Path\n",
    "import pickle\n",
    "import pandas as pd\n",
    "from google.cloud import storage\n",
    "\n",
    "import hashlib\n",
    "def _hash(s):\n",
    "    return hashlib.blake2b(bytes(s, encoding='utf8'), digest_size=5).hexdigest()\n",
    "\n",
    "nltk.download('stopwords')"
   ]
  },
  {
   "cell_type": "code",
   "execution_count": 53,
   "id": "38a897f2",
   "metadata": {
    "id": "38a897f2",
    "nbgrader": {
     "grade": false,
     "grade_id": "cell-jar",
     "locked": true,
     "schema_version": 3,
     "solution": false,
     "task": false
    },
    "outputId": "8f93a7ec-71e0-49c1-fc81-9af385849a90",
    "pycharm": {
     "name": "#%%\n"
    }
   },
   "outputs": [
    {
     "name": "stdout",
     "output_type": "stream",
     "text": [
      "-rw-r--r-- 1 root root 247882 Jan 12 08:37 /usr/lib/spark/jars/graphframes-0.8.2-spark3.1-s_2.12.jar\r\n"
     ]
    }
   ],
   "source": [
    "# if nothing prints here you forgot to include the initialization script when starting the cluster\n",
    "!ls -l /usr/lib/spark/jars/graph*"
   ]
  },
  {
   "cell_type": "code",
   "execution_count": 54,
   "id": "47900073",
   "metadata": {
    "id": "47900073",
    "nbgrader": {
     "grade": false,
     "grade_id": "cell-pyspark-import",
     "locked": true,
     "schema_version": 3,
     "solution": false,
     "task": false
    },
    "pycharm": {
     "name": "#%%\n"
    }
   },
   "outputs": [],
   "source": [
    "from pyspark.sql import *\n",
    "from pyspark.sql.functions import *\n",
    "from pyspark import SparkContext, SparkConf, SparkFiles\n",
    "from pyspark.sql import SQLContext\n",
    "from graphframes import *"
   ]
  },
  {
   "cell_type": "code",
   "execution_count": 55,
   "id": "72bed56b",
   "metadata": {
    "id": "72bed56b",
    "nbgrader": {
     "grade": false,
     "grade_id": "cell-spark-version",
     "locked": true,
     "schema_version": 3,
     "solution": false,
     "task": false
    },
    "outputId": "07b4e22b-a252-42fb-fe46-d9050e4e7ca8",
    "scrolled": true,
    "pycharm": {
     "name": "#%%\n"
    }
   },
   "outputs": [
    {
     "data": {
      "text/html": [
       "\n",
       "            <div>\n",
       "                <p><b>SparkSession - hive</b></p>\n",
       "                \n",
       "        <div>\n",
       "            <p><b>SparkContext</b></p>\n",
       "\n",
       "            <p><a href=\"http://cluster-979b-m.c.myfirstgcp-370210.internal:34767\">Spark UI</a></p>\n",
       "\n",
       "            <dl>\n",
       "              <dt>Version</dt>\n",
       "                <dd><code>v3.1.3</code></dd>\n",
       "              <dt>Master</dt>\n",
       "                <dd><code>yarn</code></dd>\n",
       "              <dt>AppName</dt>\n",
       "                <dd><code>PySparkShell</code></dd>\n",
       "            </dl>\n",
       "        </div>\n",
       "        \n",
       "            </div>\n",
       "        "
      ],
      "text/plain": [
       "<pyspark.sql.session.SparkSession at 0x7efea89ebca0>"
      ]
     },
     "execution_count": 55,
     "metadata": {},
     "output_type": "execute_result"
    }
   ],
   "source": [
    "spark"
   ]
  },
  {
   "cell_type": "code",
   "execution_count": 56,
   "id": "980e62a5",
   "metadata": {
    "id": "980e62a5",
    "nbgrader": {
     "grade": false,
     "grade_id": "cell-bucket_name",
     "locked": false,
     "schema_version": 3,
     "solution": true,
     "task": false
    },
    "pycharm": {
     "name": "#%%\n"
    }
   },
   "outputs": [],
   "source": [
    "# Put your bucket name below and make sure you can access it without an error\n",
    "bucket_name = 'elad_318640828_anchor_bucket' \n",
    "full_path = f\"gs://{bucket_name}/\"\n",
    "paths=[]\n",
    "\n",
    "client = storage.Client()\n",
    "blobs = client.list_blobs(bucket_name, prefix='Parquet_Files')\n",
    "for b in blobs:\n",
    "    if b.name.endswith('.parquet'):\n",
    "        paths.append(full_path+b.name)\n",
    "# print(paths)"
   ]
  },
  {
   "cell_type": "markdown",
   "id": "cac891c2",
   "metadata": {
    "id": "cac891c2",
    "pycharm": {
     "name": "#%% md\n"
    }
   },
   "source": [
    "***GCP setup is complete!*** If you got here without any errors you've earned 10 out of the 35 points of this part."
   ]
  },
  {
   "cell_type": "markdown",
   "id": "582c3f5e",
   "metadata": {
    "id": "582c3f5e",
    "pycharm": {
     "name": "#%% md\n"
    }
   },
   "source": [
    "# Building an inverted index"
   ]
  },
  {
   "cell_type": "markdown",
   "id": "481f2044",
   "metadata": {
    "id": "481f2044",
    "pycharm": {
     "name": "#%% md\n"
    }
   },
   "source": [
    "Here, we read the entire corpus to an rdd, directly from Google Storage Bucket and use your code from Colab to construct an inverted index."
   ]
  },
  {
   "cell_type": "code",
   "execution_count": 57,
   "id": "e4c523e7",
   "metadata": {
    "id": "e4c523e7",
    "outputId": "33dd7441-c4a8-43d4-b041-5ff8588f82ca",
    "scrolled": false,
    "pycharm": {
     "name": "#%%\n"
    }
   },
   "outputs": [],
   "source": [
    "parquetFile = spark.read.parquet(*paths)\n",
    "doc_anchor_pairs_pre = parquetFile.select(\"anchor_text\",\"id\").rdd\n",
    "doc_titles_pairs = parquetFile.select(\"id\",\"title\").rdd"
   ]
  },
  {
   "cell_type": "code",
   "execution_count": null,
   "id": "125bd045",
   "metadata": {
    "pycharm": {
     "name": "#%%\n"
    }
   },
   "outputs": [],
   "source": []
  },
  {
   "cell_type": "code",
   "execution_count": 58,
   "id": "a9216869",
   "metadata": {
    "pycharm": {
     "name": "#%%\n"
    }
   },
   "outputs": [],
   "source": [
    "def mapping_as_should(doc_anchor_pair):\n",
    "    edge_set = []\n",
    "    for id, anchor_text in doc_anchor_pair[0]:\n",
    "        if (id, anchor_text) not in edge_set:\n",
    "            edge_set.append((id, anchor_text))\n",
    "    return edge_set\n",
    "\n",
    "doc_anchor_pairs = doc_anchor_pairs_pre.flatMap(mapping_as_should).distinct().groupByKey()\n",
    "doc_anchor_pairs = doc_anchor_pairs.mapValues(list).map(lambda x: (\" \".join(x[1]), x[0]))"
   ]
  },
  {
   "cell_type": "code",
   "execution_count": 59,
   "id": "d4c137a1",
   "metadata": {
    "pycharm": {
     "name": "#%%\n"
    }
   },
   "outputs": [],
   "source": [
    "# doc_anchor_pairs.take(1)"
   ]
  },
  {
   "cell_type": "markdown",
   "id": "701811af",
   "metadata": {
    "id": "701811af",
    "pycharm": {
     "name": "#%% md\n"
    }
   },
   "source": [
    "Let's import the inverted index module. Note that you need to use the staff-provided version called `inverted_index_gcp.py`, which contains helper functions to writing and reading the posting files similar to the Colab version, but with writing done to a Google Cloud Storage bucket."
   ]
  },
  {
   "cell_type": "code",
   "execution_count": 60,
   "id": "121fe102",
   "metadata": {
    "id": "121fe102",
    "outputId": "327fe81b-80f4-4b3a-8894-e74720d92e35",
    "pycharm": {
     "name": "#%%\n"
    }
   },
   "outputs": [
    {
     "name": "stdout",
     "output_type": "stream",
     "text": [
      "inverted_index_gcp.py\r\n"
     ]
    }
   ],
   "source": [
    "# if nothing prints here you forgot to upload the file inverted_index_gcp.py to the home dir\n",
    "%cd -q /home/dataproc\n",
    "!ls inverted_index_gcp.py"
   ]
  },
  {
   "cell_type": "code",
   "execution_count": 61,
   "id": "57c101a8",
   "metadata": {
    "id": "57c101a8",
    "scrolled": true,
    "pycharm": {
     "name": "#%%\n"
    }
   },
   "outputs": [
    {
     "name": "stderr",
     "output_type": "stream",
     "text": [
      "23/01/12 18:34:33 WARN org.apache.spark.SparkContext: The path /home/dataproc/inverted_index_gcp.py has been added already. Overwriting of added paths is not supported in the current version.\n"
     ]
    }
   ],
   "source": [
    "# adding our python module to the cluster\n",
    "sc.addFile(\"/home/dataproc/inverted_index_gcp.py\")\n",
    "sys.path.insert(0,SparkFiles.getRootDirectory())"
   ]
  },
  {
   "cell_type": "code",
   "execution_count": 62,
   "id": "c259c402",
   "metadata": {
    "id": "c259c402",
    "pycharm": {
     "name": "#%%\n"
    }
   },
   "outputs": [],
   "source": [
    "from inverted_index_gcp import InvertedIndex"
   ]
  },
  {
   "cell_type": "code",
   "execution_count": 63,
   "id": "f3ad8fea",
   "metadata": {
    "id": "f3ad8fea",
    "nbgrader": {
     "grade": false,
     "grade_id": "cell-token2bucket",
     "locked": false,
     "schema_version": 3,
     "solution": true,
     "task": false
    },
    "pycharm": {
     "name": "#%%\n"
    }
   },
   "outputs": [],
   "source": [
    "english_stopwords = frozenset(stopwords.words('english'))\n",
    "corpus_stopwords = [\"category\", \"references\", \"also\", \"external\", \"links\",\n",
    "                    \"may\", \"first\", \"see\", \"history\", \"people\", \"one\", \"two\",\n",
    "                    \"part\", \"thumb\", \"including\", \"second\", \"following\",\n",
    "                    \"many\", \"however\", \"would\", \"became\"]\n",
    "\n",
    "all_stopwords = english_stopwords.union(corpus_stopwords)\n",
    "RE_WORD = re.compile(r\"\"\"[\\#\\@\\w](['\\-]?\\w){2,24}\"\"\", re.UNICODE)\n",
    "\n",
    "NUM_BUCKETS = 124\n",
    "\n",
    "\n",
    "def token2bucket_id(token):\n",
    "    return int(_hash(token), 16) % NUM_BUCKETS\n",
    "\n",
    "\n",
    "# PLACE YOUR CODE HERE\n",
    "def word_count(text, id):\n",
    "    ''' Count the frequency of each word in `text` (tf) that is not included in\n",
    "    `all_stopwords` and return entries that will go into our posting lists.\n",
    "    Parameters:\n",
    "    -----------\n",
    "      text: str\n",
    "        Text of one document\n",
    "      id: int\n",
    "        Document id\n",
    "    Returns:\n",
    "    --------\n",
    "      List of tuples\n",
    "        A list of (token, (doc_id, tf)) pairs\n",
    "        for example: [(\"Anarchism\", (12, 5)), ...]\n",
    "    '''\n",
    "    tokens = [token.group() for token in RE_WORD.finditer(text.lower())]\n",
    "\n",
    "    final_tokens = []\n",
    "    for tok in tokens:\n",
    "        if tok not in all_stopwords:\n",
    "            final_tokens.append(tok)\n",
    "    tf_dict = Counter(final_tokens)\n",
    "    returning = []\n",
    "    for elem in tf_dict.items():\n",
    "        returning.append((elem[0], (id, elem[1])))\n",
    "    return returning\n",
    "\n",
    "######################\n",
    "def document_length(text, id):\n",
    "    ''' Count the frequency of each word in `text` (tf) that is not included in\n",
    "    `all_stopwords` and return entries that will go into our posting lists.\n",
    "    Parameters:\n",
    "    -----------\n",
    "      text: str\n",
    "        Text of one document\n",
    "      id: int\n",
    "        Document id\n",
    "    Returns:\n",
    "    --------\n",
    "      List of tuples\n",
    "        A list of (token, (doc_id, tf)) pairs\n",
    "        for example: [(\"Anarchism\", (12, 5)), ...]\n",
    "    '''\n",
    "    tokens = [token.group() for token in RE_WORD.finditer(text.lower())]\n",
    "\n",
    "    final_tokens = []\n",
    "    for tok in tokens:\n",
    "        if tok not in all_stopwords:\n",
    "            final_tokens.append(tok)\n",
    "    res = []\n",
    "    res.append((len(final_tokens), id))\n",
    "\n",
    "    return res\n",
    "\n",
    "##################\n",
    "def reduce_word_counts(unsorted_pl):\n",
    "    ''' Returns a sorted posting list by wiki_id.\n",
    "    Parameters:\n",
    "    -----------\n",
    "      unsorted_pl: list of tuples\n",
    "        A list of (wiki_id, tf) tuples\n",
    "    Returns:\n",
    "    --------\n",
    "      list of tuples\n",
    "        A sorted posting list.\n",
    "    '''\n",
    "    finale = []\n",
    "    finale = sorted(unsorted_pl, key= lambda x: x[1], reverse=True)\n",
    "    return finale\n",
    "\n",
    "##################\n",
    "def sorting_to_DL(row):\n",
    "    a, b_list = row\n",
    "    b = b_list[0]\n",
    "    return (a, b)\n",
    "\n",
    "##################\n",
    "def calculate_df(postings):\n",
    "    ''' Takes a posting list RDD and calculate the df for each token.\n",
    "    Parameters:\n",
    "    -----------\n",
    "      postings: RDD\n",
    "        An RDD where each element is a (token, posting_list) pair.\n",
    "    Returns:\n",
    "    --------\n",
    "      RDD\n",
    "        An RDD where each element is a (token, df) pair.\n",
    "    '''\n",
    "    finale = []\n",
    "    finale = postings.map(lambda x: (x[0], len(x[1])))\n",
    "\n",
    "    return finale\n",
    "\n",
    "\n",
    "##################\n",
    "def partition_postings_and_write(postings):\n",
    "    ''' A function that partitions the posting lists into buckets, writes out\n",
    "    all posting lists in a bucket to disk, and returns the posting locations for\n",
    "    each bucket. Partitioning should be done through the use of `token2bucket`\n",
    "    above. Writing to disk should use the function  `write_a_posting_list`, a\n",
    "    static method implemented in inverted_index_colab.py under the InvertedIndex\n",
    "    class.\n",
    "    Parameters:\n",
    "    -----------\n",
    "      postings: RDD\n",
    "        An RDD where each item is a (w, posting_list) pair.\n",
    "    Returns:\n",
    "    --------\n",
    "      RDD\n",
    "        An RDD where each item is a posting locations dictionary for a bucket. The\n",
    "        posting locations maintain a list for each word of file locations and\n",
    "        offsets its posting list was written to. See `write_a_posting_list` for\n",
    "        more details.\n",
    "    '''\n",
    "\n",
    "    file_location_dictionary = {}\n",
    "    lama = postings.map(lambda x: (token2bucket_id(x[0]), x)).groupByKey().map(\n",
    "        lambda x: InvertedIndex.write_a_posting_list(x, bucket_name))\n",
    "\n",
    "    return lama"
   ]
  },
  {
   "cell_type": "code",
   "execution_count": 64,
   "id": "8b281f4f",
   "metadata": {
    "pycharm": {
     "name": "#%%\n"
    }
   },
   "outputs": [
    {
     "name": "stderr",
     "output_type": "stream",
     "text": [
      "[Stage 37:=====================================================>(122 + 2) / 124]\r"
     ]
    },
    {
     "name": "stdout",
     "output_type": "stream",
     "text": [
      "625.0677099227905\n"
     ]
    },
    {
     "name": "stderr",
     "output_type": "stream",
     "text": [
      "                                                                                \r"
     ]
    }
   ],
   "source": [
    "# time the index creation time\n",
    "t_start = time()\n",
    "# word counts map\n",
    "word_counts_text = doc_anchor_pairs.flatMap(lambda x: word_count(x[0], x[1]))\n",
    "doc_len_dict = doc_anchor_pairs.flatMap(lambda x: document_length(x[0], x[1]))\n",
    "\n",
    "postings_text = word_counts_text.groupByKey().mapValues(reduce_word_counts)\n",
    "# postings_text_doc_len_dict = doc_len_dict.groupByKey().mapValues(reduce_word_counts).map(sorting_to_DL)\n",
    "# to_DL = postings_text_doc_len_dict.collectAsMap()\n",
    "# filtering postings and calculate df\n",
    "postings_filtered_text = postings_text.filter(lambda x: len(x[1])>50)\n",
    "\n",
    "w2df_text = calculate_df(postings_filtered_text)\n",
    "\n",
    "w2df_dict_text = w2df_text.collectAsMap()\n",
    "\n",
    "# partition posting lists and write out\n",
    "_ = partition_postings_and_write(postings_filtered_text).collect()\n",
    "\n",
    "index_const_time = time() - t_start\n",
    "\n",
    "# test index construction time\n",
    "print(index_const_time)"
   ]
  },
  {
   "cell_type": "code",
   "execution_count": null,
   "id": "9ef7d0f1",
   "metadata": {
    "pycharm": {
     "name": "#%%\n"
    }
   },
   "outputs": [],
   "source": []
  },
  {
   "cell_type": "code",
   "execution_count": 40,
   "id": "55c8764e",
   "metadata": {
    "id": "55c8764e",
    "nbgrader": {
     "grade": false,
     "grade_id": "cell-index_construction",
     "locked": false,
     "schema_version": 3,
     "solution": true,
     "task": false
    },
    "outputId": "5968e9ae-92b8-4938-c4b7-299a55ec29b2",
    "pycharm": {
     "name": "#%%\n"
    }
   },
   "outputs": [],
   "source": [
    "# # time the index creation time\n",
    "# t_start = time()\n",
    "\n",
    "# words = doc_anchor_pairs.flatMap(lambda y: map(lambda x: word_count(x[1],(y[1],x[0])),y[0]))\n",
    "# word_counts=words.flatMap(lambda x:x)\n",
    "# wordsone=word_counts.mapValues(lambda y:(y[0][1],y[1]))\n",
    "\n",
    "# postings=wordsone.groupByKey().mapValues(lambda x:union_count(sorted(list(x),key=lambda x:x[0])))\n",
    "# postings_filtered = postings.filter(lambda x: len(x[1])>50)\n",
    "# w2df = calculate_df(postings_filtered)\n",
    "# w2df_dict = w2df.collectAsMap()\n",
    "# posting_locs_list = partition_postings_and_write(postings_filtered).collect()\n",
    "\n",
    "# index_const_time = time() - t_start\n",
    "\n",
    "# # test index construction time\n",
    "# print(index_const_time)"
   ]
  },
  {
   "cell_type": "code",
   "execution_count": 65,
   "id": "ab3296f4",
   "metadata": {
    "id": "ab3296f4",
    "nbgrader": {
     "grade": true,
     "grade_id": "collect-posting",
     "locked": true,
     "points": 0,
     "schema_version": 3,
     "solution": false,
     "task": false
    },
    "pycharm": {
     "name": "#%%\n"
    }
   },
   "outputs": [],
   "source": [
    "# collect all posting lists locations into one super-set\n",
    "super_posting_locs = defaultdict(list)\n",
    "for blob in client.list_blobs(bucket_name, prefix='postings_gcp'):\n",
    "    if not blob.name.endswith(\"pickle\"):\n",
    "        continue\n",
    "    with blob.open(\"rb\") as f:\n",
    "        posting_locs = pickle.load(f)\n",
    "        for k, v in posting_locs.items():\n",
    "            super_posting_locs[k].extend(v)"
   ]
  },
  {
   "cell_type": "code",
   "execution_count": 66,
   "id": "9562e6b0",
   "metadata": {
    "pycharm": {
     "name": "#%%\n"
    }
   },
   "outputs": [
    {
     "name": "stderr",
     "output_type": "stream",
     "text": [
      "                                                                                \r"
     ]
    },
    {
     "name": "stdout",
     "output_type": "stream",
     "text": [
      "Copying file://index_anchor.pkl [Content-Type=application/octet-stream]...\n",
      "==> NOTE: You are uploading one or more large file(s), which would run          \n",
      "significantly faster if you enable parallel composite uploads. This\n",
      "feature can be enabled by editing the\n",
      "\"parallel_composite_upload_threshold\" value in your .boto\n",
      "configuration file. However, note that if you do this large files will\n",
      "be uploaded as `composite objects\n",
      "<https://cloud.google.com/storage/docs/composite-objects>`_,which\n",
      "means that any user who downloads such objects will need to have a\n",
      "compiled crcmod installed (see \"gsutil help crcmod\"). This is because\n",
      "without a compiled crcmod, computing checksums on composite objects is\n",
      "so slow that gsutil disables downloads of composite objects.\n",
      "\n",
      "- [1 files][170.2 MiB/170.2 MiB]                                                \n",
      "Operation completed over 1 objects/170.2 MiB.                                    \n"
     ]
    }
   ],
   "source": [
    "# Create inverted index instance\n",
    "inverted = InvertedIndex()\n",
    "# Adding the posting locations dictionary to the inverted index\n",
    "inverted.posting_locs = super_posting_locs\n",
    "# Add the token - df dictionary to the inverted index\n",
    "inverted.df = w2df_dict_text\n",
    "# Add dictionary that map document id to his title\n",
    "inverted.id2titles = doc_titles_pairs.collectAsMap()\n",
    "# Add DL dictionary\n",
    "# inverted.DL = to_DL\n",
    "# write the global stats out\n",
    "inverted.write_index('.', 'index_anchor')\n",
    "# upload to gs\n",
    "index_src = \"index_anchor.pkl\"\n",
    "index_dst = f'gs://{bucket_name}/postings_gcp/{index_src}'\n",
    "!gsutil cp $index_src $index_dst"
   ]
  },
  {
   "cell_type": "code",
   "execution_count": 67,
   "id": "2ed2c9ec",
   "metadata": {
    "pycharm": {
     "name": "#%%\n"
    }
   },
   "outputs": [
    {
     "data": {
      "text/plain": [
       "57297"
      ]
     },
     "execution_count": 67,
     "metadata": {},
     "output_type": "execute_result"
    }
   ],
   "source": [
    "inverted.df[\"king\"]"
   ]
  },
  {
   "cell_type": "markdown",
   "id": "f6f66e3a",
   "metadata": {
    "id": "f6f66e3a",
    "pycharm": {
     "name": "#%% md\n"
    }
   },
   "source": [
    "Putting it all together"
   ]
  },
  {
   "cell_type": "code",
   "execution_count": 44,
   "id": "a5d2cfb6",
   "metadata": {
    "id": "a5d2cfb6",
    "outputId": "e4ae40e2-db68-435c-d41e-b230e3f32426",
    "pycharm": {
     "name": "#%%\n"
    }
   },
   "outputs": [],
   "source": [
    "# # Create inverted index instance\n",
    "# inverted = InvertedIndex()\n",
    "# # Adding the posting locations dictionary to the inverted index\n",
    "# inverted.posting_locs = super_posting_locs\n",
    "# # Add the token - df dictionary to the inverted index\n",
    "# inverted.df = w2df_dict\n",
    "# totals=postings.map(lambda x:calculate_total_term(x[0],x[1]))\n",
    "# inverted.term_total=totals.collectAsMap()\n",
    "# # write the global stats out\n",
    "# inverted.write_index('.', 'index_anchor')\n",
    "# # upload to gs\n",
    "# index_src = \"index_anchor.pkl\"\n",
    "# index_dst = f'gs://{bucket_name}/postings_gcp/{index_src}'\n",
    "# !gsutil cp $index_src $index_dst"
   ]
  },
  {
   "cell_type": "code",
   "execution_count": 68,
   "id": "8f880d59",
   "metadata": {
    "id": "8f880d59",
    "nbgrader": {
     "grade": false,
     "grade_id": "cell-index_dst_size",
     "locked": true,
     "schema_version": 3,
     "solution": false,
     "task": false
    },
    "outputId": "c5a1cf82-aeb5-4c61-83c4-1f22948ad042",
    "pycharm": {
     "name": "#%%\n"
    }
   },
   "outputs": [
    {
     "name": "stdout",
     "output_type": "stream",
     "text": [
      "170.16 MiB  2023-01-12T18:45:36Z  gs://elad_318640828_anchor_bucket/postings_gcp/index_anchor.pkl\r\n",
      "TOTAL: 1 objects, 178429572 bytes (170.16 MiB)\r\n"
     ]
    }
   ],
   "source": [
    "!gsutil ls -lh $index_dst"
   ]
  },
  {
   "cell_type": "code",
   "execution_count": 69,
   "id": "1f9e114d",
   "metadata": {
    "pycharm": {
     "name": "#%%\n"
    }
   },
   "outputs": [
    {
     "name": "stdout",
     "output_type": "stream",
     "text": [
      "[(4045403, 'Foster Air Force Base'), (4045413, 'Torino Palavela'), (4045419, 'Mad About the Boy'), (4045426, 'Shayne Breuer'), (4045432, 'Parantaka I'), (4045456, 'Arundel (UK Parliament constituency)'), (4045466, 'Andrew Martinez'), (4045471, 'Vancouver VooDoo'), (4045479, 'Invisible plane'), (4045516, 'Shopping channel'), (4045519, 'Turgay (river)'), (4045523, 'Turgay'), (4045525, 'Heinrich Johann Nepomuk von Crantz'), (4045532, 'KUT'), (4045544, 'Dodge Cove'), (4045546, 'Triphone'), (4045554, 'Government House (Nova Scotia)'), (4045575, 'Bud Abell'), (4045577, 'Susette La Flesche'), (4045581, 'Pomme de Terre River (Missouri)'), (4045584, 'Elizabethan Club'), (4045604, 'Ray Abruzzese'), (4045607, 'Holy Family High School (Broomfield, Colorado)'), (4045640, 'Deutsche Gesellschaft für Internationale Zusammenarbeit'), (4045651, 'Ken Adamson'), (4045659, 'Sir William Mackinnon, 1st Baronet'), (4045661, 'List of highest-income ZIP Code Tabulation Areas in the United States'), (4045672, '2nd Battalion, 2nd Marines'), (4045691, 'Ben Agajanian'), (4045698, 'Cola de mono'), (4045705, 'Weekend warrior'), (4045710, 'Computer fan'), (4045717, 'Calgary Cannons'), (4045722, 'Kolomoki Mounds'), (4045725, 'Broken Star'), (4045760, 'Sixlets'), (4045770, \"Shin'yō-class suicide motorboat\"), (4045791, 'Ira Basen'), (4045792, 'Michael Brennan (field hockey)'), (4045815, 'Zee Cine Award for Best Actor in a Supporting Role – Female'), (4045829, 'Holy Family High School (Mumbai)'), (4045840, 'Sarah Abitbol'), (4045849, 'WDTW (AM)'), (4045877, 'Mimolette'), (4045883, 'El Kala'), (4045890, 'WLLZ (FM)'), (4045901, 'Stéphane Bernadis'), (4045909, 'Broken Van'), (4045920, 'Rey Bucanero'), (4045928, 'Sulphur Springs Municipal Airport'), (4045953, 'Dolon Nor'), (4045974, 'Langreo'), (4045978, 'Dicrocoelium dendriticum'), (4045982, 'EMX'), (4045991, 'Miles Poindexter'), (4046019, 'Philip Dulebohn'), (4046036, 'Niangua River'), (4046050, 'Dogme et Rituel de la Haute Magie'), (4046061, 'William Byers'), (4046091, 'The Grotto, Victoria'), (4046117, 'Piast the Wheelwright'), (4046133, 'List of highways in Guam'), (4046154, 'Hong Soon-young'), (4046176, 'Charles Schlueter'), (4046178, 'Illawarra escarpment'), (4046182, 'Lookout Mountain Incline Railway'), (4046185, 'Kwangwoon University'), (4046193, 'Little Niangua River'), (4046194, 'Stephen Davies (field hockey)'), (4046212, 'Patrik Antonius'), (4046218, 'Tamaki'), (4046265, 'Smart host'), (4046272, 'Warren Central High School (Kentucky)'), (4046280, 'Jay Stacy'), (4046286, 'Sprinter (light rail)'), (4046303, 'Binchōtan'), (4046316, 'Army Day (India)'), (4046335, 'Influenza A virus subtype H7N1'), (4046347, 'Influenza A virus subtype H7N4'), (4046349, 'Communauté métropolitaine de Québec'), (4046362, 'Alan, Şemdinli'), (4046374, 'Cee-Lo Green and His Perfect Imperfections'), (4046386, 'Wijnand Ott'), (4046390, 'Nathan Eglington'), (4046394, 'Influenza A virus subtype H5N8'), (4046395, 'Nawao'), (4046418, 'Smile Like You Mean It'), (4046427, 'Tuggeranong Homestead'), (4046430, 'Minidish'), (4046436, 'Pop Shop'), (4046446, 'Cox Field'), (4046453, 'Milwaukee County Courthouse'), (4046461, 'Records manager'), (4046468, 'HFHS'), (4046470, 'Harry Sparnaay'), (4046477, 'Plum River'), (4046499, 'Dean Butler (field hockey)'), (4046521, 'Grady High School'), (4046524, 'Curt Menefee'), (4046547, 'Cee-Lo Green... Is the Soul Machine')]\n"
     ]
    }
   ],
   "source": [
    "from itertools import islice\n",
    "\n",
    "def take(n, iterable):\n",
    "    \"\"\"Return the first n items of the iterable as a list.\"\"\"\n",
    "    return list(islice(iterable, n))\n",
    "\n",
    "n = 100\n",
    "n_items = take(n, inverted.id2titles.items())\n",
    "\n",
    "\n",
    "\n",
    "print(n_items)"
   ]
  },
  {
   "cell_type": "code",
   "execution_count": 47,
   "id": "7a9538ee",
   "metadata": {
    "id": "7a9538ee",
    "nbgrader": {
     "grade": false,
     "grade_id": "cell-credits",
     "locked": true,
     "schema_version": 3,
     "solution": false,
     "task": false
    },
    "pycharm": {
     "name": "#%%\n"
    }
   },
   "outputs": [
    {
     "name": "stdout",
     "output_type": "stream",
     "text": [
      "I used 10 USD credit during the course of this assignment\n"
     ]
    }
   ],
   "source": [
    "# How many USD credits did you use in GCP during the course of this assignment?\n",
    "cost = 10\n",
    "print(f'I used {cost} USD credit during the course of this assignment')"
   ]
  },
  {
   "cell_type": "code",
   "execution_count": 24,
   "id": "3354c40e",
   "metadata": {
    "pycharm": {
     "name": "#%%\n"
    }
   },
   "outputs": [
    {
     "ename": "IndentationError",
     "evalue": "expected an indented block (2690464089.py, line 17)",
     "output_type": "error",
     "traceback": [
      "\u001B[0;36m  Cell \u001B[0;32mIn[24], line 17\u001B[0;36m\u001B[0m\n\u001B[0;31m    '''\u001B[0m\n\u001B[0m    ^\u001B[0m\n\u001B[0;31mIndentationError\u001B[0m\u001B[0;31m:\u001B[0m expected an indented block\n"
     ]
    }
   ],
   "source": [
    "def generate_graph(pages):\n",
    "''' Compute the directed graph generated by wiki links.\n",
    "  Parameters:\n",
    "  -----------\n",
    "    pages: RDD\n",
    "      An RDD where each row consists of one wikipedia articles with 'id' and \n",
    "      'anchor_text'.\n",
    "  Returns:\n",
    "  --------\n",
    "    edges: RDD\n",
    "      An RDD where each row represents an edge in the directed graph created by\n",
    "      the wikipedia links. The first entry should the source page id and the \n",
    "      second entry is the destination page id. No duplicates should be present. \n",
    "    vertices: RDD\n",
    "      An RDD where each row represents a vetrix (node) in the directed graph \n",
    "      created by the wikipedia links. No duplicates should be present. \n",
    "  '''\n",
    "    edges = pages.flatMap(lambda x: set([(x[0], link[0]) for link in x[1]]))\n",
    "    list_vertices = edges.map(lambda x: ((x[1], 0)))\n",
    "    groupi = edges.groupByKey()\n",
    "    keys_vertices = groupi.map(lambda x: (x[0], 0))\n",
    "    vertices = (keys_vertices + list_vertices).groupByKey().map(lambda x: [x[0]])\n",
    "\n",
    "    return edges, vertices"
   ]
  },
  {
   "cell_type": "code",
   "execution_count": null,
   "id": "77dfb8d3",
   "metadata": {
    "pycharm": {
     "name": "#%%\n"
    }
   },
   "outputs": [],
   "source": [
    "# test graph construction efficiency (10 points)\n",
    "t_start = time()\n",
    "# construct the graph for a small sample of (1000) pages\n",
    "edges, vertices = generate_graph(pages_links)\n",
    "# insert this parameters to our inverted index\n",
    "inverted.vertices = vertices\n",
    "inverted.edges = edges\n",
    "# time the actual execution\n",
    "v_cnt, e_cnt = vertices.count(), edges.count()\n",
    "graph_const_time = time() - t_start\n",
    "# test that the implementation is efficient (<20 seconds)\n",
    "print(graph_const_time)"
   ]
  },
  {
   "cell_type": "code",
   "execution_count": null,
   "id": "15514b97",
   "metadata": {
    "pycharm": {
     "name": "#%%\n"
    }
   },
   "outputs": [],
   "source": [
    "edgesDF = edges.toDF(['src', 'dst']).repartition(4, 'src')\n",
    "verticesDF = vertices.toDF(['id']).repartition(4, 'id')\n",
    "g = GraphFrame(verticesDF, edgesDF)\n",
    "pr_results = g.pageRank(resetProbability=0.15, maxIter=10)\n",
    "pr = pr_results.vertices.select(\"id\", \"pagerank\")\n",
    "pr = pr.sort(col('pagerank').desc())\n",
    "pr.repartition(1).write.csv('pr', compression=\"gzip\")\n",
    "pr.show()"
   ]
  },
  {
   "cell_type": "code",
   "execution_count": null,
   "id": "d82110f9",
   "metadata": {
    "pycharm": {
     "name": "#%%\n"
    }
   },
   "outputs": [],
   "source": []
  }
 ],
 "metadata": {
  "celltoolbar": "Create Assignment",
  "colab": {
   "provenance": [],
   "toc_visible": true
  },
  "kernelspec": {
   "display_name": "PySpark",
   "language": "python",
   "name": "pyspark"
  },
  "language_info": {
   "codemirror_mode": {
    "name": "ipython",
    "version": 3
   },
   "file_extension": ".py",
   "mimetype": "text/x-python",
   "name": "python",
   "nbconvert_exporter": "python",
   "pygments_lexer": "ipython3",
   "version": "3.8.15"
  }
 },
 "nbformat": 4,
 "nbformat_minor": 5
}