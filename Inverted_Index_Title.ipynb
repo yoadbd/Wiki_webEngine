{
 "cells": [
  {
   "cell_type": "code",
   "execution_count": 1,
   "metadata": {
    "id": "5ac36d3a",
    "nbgrader": {
     "grade": false,
     "grade_id": "cell-Worker_Count",
     "locked": true,
     "schema_version": 3,
     "solution": false,
     "task": false
    },
    "outputId": "cf88b954-f39a-412a-d87e-660833e735b6",
    "pycharm": {
     "name": "#%%\n"
    }
   },
   "outputs": [
    {
     "name": "stdout",
     "output_type": "stream",
     "text": [
      "NAME          PLATFORM  WORKER_COUNT  PREEMPTIBLE_WORKER_COUNT  STATUS   ZONE           SCHEDULED_DELETE\r\n",
      "cluster-0bb8  GCE       4                                       RUNNING  us-central1-a\r\n"
     ]
    }
   ],
   "source": [
    "# if the following command generates an error, you probably didn't enable \n",
    "# the cluster security option \"Allow API access to all Google Cloud services\"\n",
    "# under Manage Security → Project Access when setting up the cluster\n",
    "!gcloud dataproc clusters list --region us-central1"
   ]
  },
  {
   "cell_type": "markdown",
   "metadata": {
    "id": "51cf86c5",
    "pycharm": {
     "name": "#%% md\n"
    }
   },
   "source": [
    "# Imports & Setup"
   ]
  },
  {
   "cell_type": "code",
   "execution_count": 2,
   "metadata": {
    "id": "bf199e6a",
    "nbgrader": {
     "grade": false,
     "grade_id": "cell-Setup",
     "locked": true,
     "schema_version": 3,
     "solution": false,
     "task": false
    },
    "outputId": "fc0e315d-21e9-411d-d69c-5b97e4e5d629",
    "pycharm": {
     "name": "#%%\n"
    }
   },
   "outputs": [
    {
     "name": "stdout",
     "output_type": "stream",
     "text": [
      "\u001B[33mWARNING: Running pip as the 'root' user can result in broken permissions and conflicting behaviour with the system package manager. It is recommended to use a virtual environment instead: https://pip.pypa.io/warnings/venv\u001B[0m\u001B[33m\n",
      "\u001B[0m\u001B[33mWARNING: Running pip as the 'root' user can result in broken permissions and conflicting behaviour with the system package manager. It is recommended to use a virtual environment instead: https://pip.pypa.io/warnings/venv\u001B[0m\u001B[33m\n",
      "\u001B[0m"
     ]
    }
   ],
   "source": [
    "!pip install -q google-cloud-storage==1.43.0\n",
    "!pip install -q graphframes"
   ]
  },
  {
   "cell_type": "code",
   "execution_count": 3,
   "metadata": {
    "id": "d8f56ecd",
    "nbgrader": {
     "grade": false,
     "grade_id": "cell-Imports",
     "locked": true,
     "schema_version": 3,
     "solution": false,
     "task": false
    },
    "outputId": "a24aa24b-aa75-4823-83ca-1d7deef0f0de",
    "pycharm": {
     "name": "#%%\n"
    }
   },
   "outputs": [
    {
     "name": "stderr",
     "output_type": "stream",
     "text": [
      "[nltk_data] Downloading package stopwords to /root/nltk_data...\n",
      "[nltk_data]   Package stopwords is already up-to-date!\n"
     ]
    },
    {
     "data": {
      "text/plain": [
       "True"
      ]
     },
     "execution_count": 3,
     "metadata": {},
     "output_type": "execute_result"
    }
   ],
   "source": [
    "import pyspark\n",
    "import sys\n",
    "from collections import Counter, OrderedDict, defaultdict\n",
    "import itertools\n",
    "from itertools import islice, count, groupby\n",
    "import pandas as pd\n",
    "import os\n",
    "import re\n",
    "from operator import itemgetter\n",
    "import nltk\n",
    "from nltk.stem.porter import *\n",
    "from nltk.corpus import stopwords\n",
    "from time import time\n",
    "from pathlib import Path\n",
    "import pickle\n",
    "import pandas as pd\n",
    "from google.cloud import storage\n",
    "\n",
    "import hashlib\n",
    "def _hash(s):\n",
    "    return hashlib.blake2b(bytes(s, encoding='utf8'), digest_size=5).hexdigest()\n",
    "\n",
    "nltk.download('stopwords')"
   ]
  },
  {
   "cell_type": "code",
   "execution_count": 4,
   "metadata": {
    "id": "38a897f2",
    "nbgrader": {
     "grade": false,
     "grade_id": "cell-jar",
     "locked": true,
     "schema_version": 3,
     "solution": false,
     "task": false
    },
    "outputId": "8f93a7ec-71e0-49c1-fc81-9af385849a90",
    "pycharm": {
     "name": "#%%\n"
    }
   },
   "outputs": [
    {
     "name": "stdout",
     "output_type": "stream",
     "text": [
      "-rw-r--r-- 1 root root 247882 Jan  5 21:46 /usr/lib/spark/jars/graphframes-0.8.2-spark3.1-s_2.12.jar\r\n"
     ]
    }
   ],
   "source": [
    "# if nothing prints here you forgot to include the initialization script when starting the cluster\n",
    "!ls -l /usr/lib/spark/jars/graph*"
   ]
  },
  {
   "cell_type": "code",
   "execution_count": 5,
   "metadata": {
    "id": "47900073",
    "nbgrader": {
     "grade": false,
     "grade_id": "cell-pyspark-import",
     "locked": true,
     "schema_version": 3,
     "solution": false,
     "task": false
    },
    "pycharm": {
     "name": "#%%\n"
    }
   },
   "outputs": [],
   "source": [
    "from pyspark.sql import *\n",
    "from pyspark.sql.functions import *\n",
    "from pyspark import SparkContext, SparkConf, SparkFiles\n",
    "from pyspark.sql import SQLContext\n",
    "from graphframes import *"
   ]
  },
  {
   "cell_type": "code",
   "execution_count": 6,
   "metadata": {
    "id": "72bed56b",
    "nbgrader": {
     "grade": false,
     "grade_id": "cell-spark-version",
     "locked": true,
     "schema_version": 3,
     "solution": false,
     "task": false
    },
    "outputId": "07b4e22b-a252-42fb-fe46-d9050e4e7ca8",
    "scrolled": true,
    "pycharm": {
     "name": "#%%\n"
    }
   },
   "outputs": [
    {
     "data": {
      "text/html": [
       "\n",
       "            <div>\n",
       "                <p><b>SparkSession - hive</b></p>\n",
       "                \n",
       "        <div>\n",
       "            <p><b>SparkContext</b></p>\n",
       "\n",
       "            <p><a href=\"http://cluster-0bb8-m.c.myfirstgcp-370210.internal:36001\">Spark UI</a></p>\n",
       "\n",
       "            <dl>\n",
       "              <dt>Version</dt>\n",
       "                <dd><code>v3.1.3</code></dd>\n",
       "              <dt>Master</dt>\n",
       "                <dd><code>yarn</code></dd>\n",
       "              <dt>AppName</dt>\n",
       "                <dd><code>PySparkShell</code></dd>\n",
       "            </dl>\n",
       "        </div>\n",
       "        \n",
       "            </div>\n",
       "        "
      ],
      "text/plain": [
       "<pyspark.sql.session.SparkSession at 0x7fcf227f74f0>"
      ]
     },
     "execution_count": 6,
     "metadata": {},
     "output_type": "execute_result"
    }
   ],
   "source": [
    "spark"
   ]
  },
  {
   "cell_type": "code",
   "execution_count": 7,
   "metadata": {
    "id": "980e62a5",
    "nbgrader": {
     "grade": false,
     "grade_id": "cell-bucket_name",
     "locked": false,
     "schema_version": 3,
     "solution": true,
     "task": false
    },
    "pycharm": {
     "name": "#%%\n"
    }
   },
   "outputs": [
    {
     "name": "stdout",
     "output_type": "stream",
     "text": [
      "['gs://elad_318640828_titles_bucket/Parquet_Files/multistream10_preprocessed.parquet', 'gs://elad_318640828_titles_bucket/Parquet_Files/multistream11_part2_preprocessed.parquet', 'gs://elad_318640828_titles_bucket/Parquet_Files/multistream11_preprocessed.parquet', 'gs://elad_318640828_titles_bucket/Parquet_Files/multistream12_part2_preprocessed.parquet', 'gs://elad_318640828_titles_bucket/Parquet_Files/multistream12_preprocessed.parquet', 'gs://elad_318640828_titles_bucket/Parquet_Files/multistream13_part2_preprocessed.parquet', 'gs://elad_318640828_titles_bucket/Parquet_Files/multistream13_preprocessed.parquet', 'gs://elad_318640828_titles_bucket/Parquet_Files/multistream14_part2_preprocessed.parquet', 'gs://elad_318640828_titles_bucket/Parquet_Files/multistream14_preprocessed.parquet', 'gs://elad_318640828_titles_bucket/Parquet_Files/multistream15_part2_preprocessed.parquet', 'gs://elad_318640828_titles_bucket/Parquet_Files/multistream15_part3_preprocessed.parquet', 'gs://elad_318640828_titles_bucket/Parquet_Files/multistream15_preprocessed.parquet', 'gs://elad_318640828_titles_bucket/Parquet_Files/multistream16_part2_preprocessed.parquet', 'gs://elad_318640828_titles_bucket/Parquet_Files/multistream16_part3_preprocessed.parquet', 'gs://elad_318640828_titles_bucket/Parquet_Files/multistream16_preprocessed.parquet', 'gs://elad_318640828_titles_bucket/Parquet_Files/multistream17_part2_preprocessed.parquet', 'gs://elad_318640828_titles_bucket/Parquet_Files/multistream17_part3_preprocessed.parquet', 'gs://elad_318640828_titles_bucket/Parquet_Files/multistream17_preprocessed.parquet', 'gs://elad_318640828_titles_bucket/Parquet_Files/multistream18_part2_preprocessed.parquet', 'gs://elad_318640828_titles_bucket/Parquet_Files/multistream18_part3_preprocessed.parquet', 'gs://elad_318640828_titles_bucket/Parquet_Files/multistream18_preprocessed.parquet', 'gs://elad_318640828_titles_bucket/Parquet_Files/multistream19_part2_preprocessed.parquet', 'gs://elad_318640828_titles_bucket/Parquet_Files/multistream19_part3_preprocessed.parquet', 'gs://elad_318640828_titles_bucket/Parquet_Files/multistream19_preprocessed.parquet', 'gs://elad_318640828_titles_bucket/Parquet_Files/multistream1_preprocessed.parquet', 'gs://elad_318640828_titles_bucket/Parquet_Files/multistream20_part2_preprocessed.parquet', 'gs://elad_318640828_titles_bucket/Parquet_Files/multistream20_part3_preprocessed.parquet', 'gs://elad_318640828_titles_bucket/Parquet_Files/multistream20_preprocessed.parquet', 'gs://elad_318640828_titles_bucket/Parquet_Files/multistream21_part2_preprocessed.parquet', 'gs://elad_318640828_titles_bucket/Parquet_Files/multistream21_part3_preprocessed.parquet', 'gs://elad_318640828_titles_bucket/Parquet_Files/multistream21_preprocessed.parquet', 'gs://elad_318640828_titles_bucket/Parquet_Files/multistream22_part2_preprocessed.parquet', 'gs://elad_318640828_titles_bucket/Parquet_Files/multistream22_part3_preprocessed.parquet', 'gs://elad_318640828_titles_bucket/Parquet_Files/multistream22_part4_preprocessed.parquet', 'gs://elad_318640828_titles_bucket/Parquet_Files/multistream22_preprocessed.parquet', 'gs://elad_318640828_titles_bucket/Parquet_Files/multistream23_part2_preprocessed.parquet', 'gs://elad_318640828_titles_bucket/Parquet_Files/multistream23_part3_preprocessed.parquet', 'gs://elad_318640828_titles_bucket/Parquet_Files/multistream23_part4_preprocessed.parquet', 'gs://elad_318640828_titles_bucket/Parquet_Files/multistream23_preprocessed.parquet', 'gs://elad_318640828_titles_bucket/Parquet_Files/multistream24_part2_preprocessed.parquet', 'gs://elad_318640828_titles_bucket/Parquet_Files/multistream24_part3_preprocessed.parquet', 'gs://elad_318640828_titles_bucket/Parquet_Files/multistream24_part4_preprocessed.parquet', 'gs://elad_318640828_titles_bucket/Parquet_Files/multistream24_part5_preprocessed.parquet', 'gs://elad_318640828_titles_bucket/Parquet_Files/multistream24_preprocessed.parquet', 'gs://elad_318640828_titles_bucket/Parquet_Files/multistream25_part2_preprocessed.parquet', 'gs://elad_318640828_titles_bucket/Parquet_Files/multistream25_part3_preprocessed.parquet', 'gs://elad_318640828_titles_bucket/Parquet_Files/multistream25_part4_preprocessed.parquet', 'gs://elad_318640828_titles_bucket/Parquet_Files/multistream25_preprocessed.parquet', 'gs://elad_318640828_titles_bucket/Parquet_Files/multistream26_preprocessed.parquet', 'gs://elad_318640828_titles_bucket/Parquet_Files/multistream27_part2_preprocessed.parquet', 'gs://elad_318640828_titles_bucket/Parquet_Files/multistream27_part3_preprocessed.parquet', 'gs://elad_318640828_titles_bucket/Parquet_Files/multistream27_preprocessed.parquet', 'gs://elad_318640828_titles_bucket/Parquet_Files/multistream2_preprocessed.parquet', 'gs://elad_318640828_titles_bucket/Parquet_Files/multistream3_preprocessed.parquet', 'gs://elad_318640828_titles_bucket/Parquet_Files/multistream4_preprocessed.parquet', 'gs://elad_318640828_titles_bucket/Parquet_Files/multistream5_preprocessed.parquet', 'gs://elad_318640828_titles_bucket/Parquet_Files/multistream6_preprocessed.parquet', 'gs://elad_318640828_titles_bucket/Parquet_Files/multistream7_preprocessed.parquet', 'gs://elad_318640828_titles_bucket/Parquet_Files/multistream8_preprocessed.parquet', 'gs://elad_318640828_titles_bucket/Parquet_Files/multistream9_preprocessed.parquet']\n"
     ]
    }
   ],
   "source": [
    "# Put your bucket name below and make sure you can access it without an error\n",
    "bucket_name = 'elad_318640828_titles_bucket' \n",
    "full_path = f\"gs://{bucket_name}/\"\n",
    "paths=[]\n",
    "\n",
    "client = storage.Client()\n",
    "blobs = client.list_blobs(bucket_name, prefix='Parquet_Files')\n",
    "for b in blobs:\n",
    "    if b.name.endswith('.parquet'):\n",
    "        paths.append(full_path+b.name)\n",
    "print(paths)"
   ]
  },
  {
   "cell_type": "markdown",
   "metadata": {
    "id": "cac891c2",
    "pycharm": {
     "name": "#%% md\n"
    }
   },
   "source": [
    "***GCP setup is complete!*** If you got here without any errors you've earned 10 out of the 35 points of this part."
   ]
  },
  {
   "cell_type": "code",
   "execution_count": 8,
   "metadata": {
    "id": "AgdtsNaNGsPP",
    "outputId": "c7ba2a75-e148-48b6-c6aa-c7064264ac58",
    "pycharm": {
     "name": "#%%\n"
    }
   },
   "outputs": [
    {
     "name": "stderr",
     "output_type": "stream",
     "text": [
      "                                                                                \r"
     ]
    }
   ],
   "source": [
    "parquetFile = spark.read.parquet(*paths)\n",
    "\n",
    "doc_title_pairs = parquetFile.select(\"title\", \"id\").rdd\n"
   ]
  },
  {
   "cell_type": "code",
   "execution_count": 9,
   "metadata": {
    "id": "4qZch8uGGsPQ",
    "outputId": "ac42bc8f-ca1b-4b63-d92d-28acde610c11",
    "pycharm": {
     "name": "#%%\n"
    }
   },
   "outputs": [
    {
     "name": "stdout",
     "output_type": "stream",
     "text": [
      "inverted_index_gcp.py\r\n"
     ]
    }
   ],
   "source": [
    "# if nothing prints here you forgot to upload the file inverted_index_gcp.py to the home dir\n",
    "%cd -q /home/dataproc\n",
    "!ls inverted_index_gcp.py"
   ]
  },
  {
   "cell_type": "code",
   "execution_count": 10,
   "metadata": {
    "id": "cmoQacU_GsPQ",
    "pycharm": {
     "name": "#%%\n"
    }
   },
   "outputs": [],
   "source": [
    "# adding our python module to the cluster\n",
    "sc.addFile(\"/home/dataproc/inverted_index_gcp.py\")\n",
    "sys.path.insert(0,SparkFiles.getRootDirectory())"
   ]
  },
  {
   "cell_type": "code",
   "execution_count": 11,
   "metadata": {
    "id": "VB96-v0QGsPR",
    "pycharm": {
     "name": "#%%\n"
    }
   },
   "outputs": [],
   "source": [
    "from inverted_index_gcp import InvertedIndex"
   ]
  },
  {
   "cell_type": "code",
   "execution_count": 12,
   "metadata": {
    "id": "vm5E9wpoGsPR",
    "pycharm": {
     "name": "#%%\n"
    }
   },
   "outputs": [],
   "source": [
    "english_stopwords = frozenset(stopwords.words('english'))\n",
    "corpus_stopwords = [\"category\", \"references\", \"also\", \"external\", \"links\",\n",
    "                    \"may\", \"first\", \"see\", \"history\", \"people\", \"one\", \"two\",\n",
    "                    \"part\", \"thumb\", \"including\", \"second\", \"following\",\n",
    "                    \"many\", \"however\", \"would\", \"became\"]\n",
    "\n",
    "all_stopwords = english_stopwords.union(corpus_stopwords)\n",
    "RE_WORD = re.compile(r\"\"\"[\\#\\@\\w](['\\-]?\\w){2,24}\"\"\", re.UNICODE)\n",
    "\n",
    "NUM_BUCKETS = 124\n",
    "\n",
    "\n",
    "def token2bucket_id(token):\n",
    "    return int(_hash(token), 16) % NUM_BUCKETS\n",
    "\n",
    "\n",
    "# PLACE YOUR CODE HERE\n",
    "def word_count(text, id):\n",
    "    ''' Count the frequency of each word in `text` (tf) that is not included in\n",
    "    `all_stopwords` and return entries that will go into our posting lists.\n",
    "    Parameters:\n",
    "    -----------\n",
    "      text: str\n",
    "        Text of one document\n",
    "      id: int\n",
    "        Document id\n",
    "    Returns:\n",
    "    --------\n",
    "      List of tuples\n",
    "        A list of (token, (doc_id, tf)) pairs\n",
    "        for example: [(\"Anarchism\", (12, 5)), ...]\n",
    "    '''\n",
    "    tokens = [token.group() for token in RE_WORD.finditer(text.lower())]\n",
    "\n",
    "    final_tokens = []\n",
    "    for tok in tokens:\n",
    "        if tok not in all_stopwords:\n",
    "            final_tokens.append(tok)\n",
    "    tf_dict = Counter(final_tokens)\n",
    "    returning = []\n",
    "    for elem in tf_dict.items():\n",
    "        returning.append((elem[0], (id, elem[1])))\n",
    "    return returning\n",
    "\n",
    "######################\n",
    "def document_length(text, id):\n",
    "    ''' Count the frequency of each word in `text` (tf) that is not included in\n",
    "    `all_stopwords` and return entries that will go into our posting lists.\n",
    "    Parameters:\n",
    "    -----------\n",
    "      text: str\n",
    "        Text of one document\n",
    "      id: int\n",
    "        Document id\n",
    "    Returns:\n",
    "    --------\n",
    "      List of tuples\n",
    "        A list of (token, (doc_id, tf)) pairs\n",
    "        for example: [(\"Anarchism\", (12, 5)), ...]\n",
    "    '''\n",
    "    tokens = [token.group() for token in RE_WORD.finditer(text.lower())]\n",
    "\n",
    "    final_tokens = []\n",
    "    for tok in tokens:\n",
    "        if tok not in all_stopwords:\n",
    "            final_tokens.append(tok)\n",
    "    res = []\n",
    "    res.append((len(final_tokens), id))\n",
    "\n",
    "    return res\n",
    "\n",
    "##################\n",
    "def reduce_word_counts(unsorted_pl):\n",
    "    ''' Returns a sorted posting list by wiki_id.\n",
    "    Parameters:\n",
    "    -----------\n",
    "      unsorted_pl: list of tuples\n",
    "        A list of (wiki_id, tf) tuples\n",
    "    Returns:\n",
    "    --------\n",
    "      list of tuples\n",
    "        A sorted posting list.\n",
    "    '''\n",
    "    finale = []\n",
    "    finale = sorted(unsorted_pl, reverse=False)\n",
    "    return finale\n",
    "\n",
    "##################\n",
    "def sorting_to_DL(row):\n",
    "    a, b_list = row\n",
    "    b = b_list[0]\n",
    "    return (a, b)\n",
    "\n",
    "##################\n",
    "def calculate_df(postings):\n",
    "    ''' Takes a posting list RDD and calculate the df for each token.\n",
    "    Parameters:\n",
    "    -----------\n",
    "      postings: RDD\n",
    "        An RDD where each element is a (token, posting_list) pair.\n",
    "    Returns:\n",
    "    --------\n",
    "      RDD\n",
    "        An RDD where each element is a (token, df) pair.\n",
    "    '''\n",
    "    finale = []\n",
    "    finale = postings.map(lambda x: (x[0], len(x[1])))\n",
    "\n",
    "    return finale\n",
    "\n",
    "\n",
    "##################\n",
    "def partition_postings_and_write(postings):\n",
    "    ''' A function that partitions the posting lists into buckets, writes out\n",
    "    all posting lists in a bucket to disk, and returns the posting locations for\n",
    "    each bucket. Partitioning should be done through the use of `token2bucket`\n",
    "    above. Writing to disk should use the function  `write_a_posting_list`, a\n",
    "    static method implemented in inverted_index_colab.py under the InvertedIndex\n",
    "    class.\n",
    "    Parameters:\n",
    "    -----------\n",
    "      postings: RDD\n",
    "        An RDD where each item is a (w, posting_list) pair.\n",
    "    Returns:\n",
    "    --------\n",
    "      RDD\n",
    "        An RDD where each item is a posting locations dictionary for a bucket. The\n",
    "        posting locations maintain a list for each word of file locations and\n",
    "        offsets its posting list was written to. See `write_a_posting_list` for\n",
    "        more details.\n",
    "    '''\n",
    "\n",
    "    file_location_dictionary = {}\n",
    "    lama = postings.map(lambda x: (token2bucket_id(x[0]), x)).groupByKey().map(\n",
    "        lambda x: InvertedIndex.write_a_posting_list(x, bucket_name))\n",
    "\n",
    "    return lama"
   ]
  },
  {
   "cell_type": "code",
   "execution_count": null,
   "metadata": {
    "id": "yLkuESJSGsPR",
    "outputId": "7507db13-18b2-4854-faed-af064f600f91",
    "pycharm": {
     "name": "#%%\n"
    }
   },
   "outputs": [
    {
     "name": "stderr",
     "output_type": "stream",
     "text": [
      "[Stage 5:================>                                       (36 + 4) / 124]\r"
     ]
    }
   ],
   "source": [
    "# time the index creation time\n",
    "t_start = time()\n",
    "# word counts map\n",
    "word_counts_title = doc_title_pairs.flatMap(lambda x: word_count(x[0], x[1]))\n",
    "doc_len_dict = doc_text_pairs.flatMap(lambda x: document_length(x[0], x[1]))\n",
    "\n",
    "postings_title = word_counts_title.groupByKey().mapValues(reduce_word_counts)\n",
    "\n",
    "postings_text_doc_len_dict = doc_len_dict.groupByKey().mapValues(reduce_word_counts).map(sorting_to_DL)\n",
    "to_DL = postings_text_doc_len_dict.collectAsMap()\n",
    "# filtering postings and calculate df\n",
    "postings_filtered_title = postings_title.filter(lambda x: len(x[1])>50)\n",
    "\n",
    "w2df_title = calculate_df(postings_filtered_title)\n",
    "\n",
    "w2df_dict_title = w2df_title.collectAsMap()\n",
    "\n",
    "# partition posting lists and write out\n",
    "_ = partition_postings_and_write(postings_filtered_title).collect()\n",
    "\n",
    "index_const_time = time() - t_start\n",
    "\n",
    "# test index construction time\n",
    "print(index_const_time)"
   ]
  },
  {
   "cell_type": "code",
   "execution_count": null,
   "metadata": {
    "id": "_QvvsowdGsPS",
    "pycharm": {
     "name": "#%%\n"
    }
   },
   "outputs": [],
   "source": [
    "# collect all posting lists locations into one super-set\n",
    "super_posting_locs_title = defaultdict(list)\n",
    "for blob in client.list_blobs(bucket_name, prefix='postings_gcp'):\n",
    "  if not blob.name.endswith(\"pickle\"):\n",
    "    continue\n",
    "  with blob.open(\"rb\") as f:\n",
    "    posting_locs = pickle.load(f)\n",
    "    for k, v in posting_locs.items():\n",
    "      super_posting_locs_title[k].extend(v)"
   ]
  },
  {
   "cell_type": "code",
   "execution_count": null,
   "metadata": {
    "id": "VWCuOfcjGsPT",
    "outputId": "1caa911c-84e1-4cea-b85e-ff3f9391383d",
    "pycharm": {
     "name": "#%%\n"
    }
   },
   "outputs": [],
   "source": [
    "# Create inverted index instance\n",
    "inverted = InvertedIndex()\n",
    "# Adding the posting locations dictionary to the inverted index\n",
    "inverted.posting_locs = super_posting_locs_title\n",
    "# Add the token - df dictionary to the inverted index\n",
    "inverted.df = w2df_dict_title\n",
    "# Add DL dictionary\n",
    "inverted.DL = to_DL\n",
    "# write the global stats out\n",
    "inverted.write_index('.', 'index_title')\n",
    "# upload to gs\n",
    "index_src = \"index_title.pkl\"\n",
    "index_dst = f'gs://{bucket_name}/postings_gcp/{index_src}'\n",
    "!gsutil cp $index_src $index_dst"
   ]
  },
  {
   "cell_type": "code",
   "execution_count": null,
   "metadata": {
    "id": "rGHOWnwtGsPT",
    "outputId": "262eaa8a-4e8d-4444-fff7-89ccd52fadce",
    "pycharm": {
     "name": "#%%\n"
    }
   },
   "outputs": [],
   "source": [
    "!gsutil ls -lh $index_dst"
   ]
  },
  {
   "cell_type": "code",
   "execution_count": null,
   "metadata": {
    "pycharm": {
     "name": "#%%\n"
    }
   },
   "outputs": [],
   "source": []
  }
 ],
 "metadata": {
  "colab": {
   "provenance": []
  },
  "kernelspec": {
   "display_name": "PySpark",
   "language": "python",
   "name": "pyspark"
  },
  "language_info": {
   "codemirror_mode": {
    "name": "ipython",
    "version": 3
   },
   "file_extension": ".py",
   "mimetype": "text/x-python",
   "name": "python",
   "nbconvert_exporter": "python",
   "pygments_lexer": "ipython3",
   "version": "3.8.15"
  }
 },
 "nbformat": 4,
 "nbformat_minor": 1
}